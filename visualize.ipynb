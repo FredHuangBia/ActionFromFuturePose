{
 "cells": [
  {
   "cell_type": "code",
   "execution_count": null,
   "metadata": {},
   "outputs": [],
   "source": [
    "import numpy as np\n",
    "import cv2\n",
    "import matplotlib.pyplot as plt\n",
    "%matplotlib inline\n",
    "from utils.vis_pose import single_pose_image, double_pose_image\n",
    "from models.st_gcn_FP import Model_FP as STGCN\n",
    "from data.ntu_fp import NTU_FP_Dataset\n",
    "import yaml\n",
    "import torch\n",
    "import torch.nn as nn\n",
    "from torch.utils.data.dataloader import DataLoader\n",
    "\n",
    "np.random.seed(0)\n",
    "torch.manual_seed(0)"
   ]
  },
  {
   "cell_type": "code",
   "execution_count": null,
   "metadata": {},
   "outputs": [],
   "source": [
    "sample_pose = np.array([[[ -9.6925],[ -9.7138],  [ -9.7342],  [ -9.6590],  [ -9.8016],  [ -9.7599],  [ -9.6415],  [ -9.6166],  [ -9.6471],  [ -9.7464],  [ -9.6637],  [ -9.6600],  [ -9.7298],  [ -9.7179],  [ -9.7708],  [ -9.6795],  [ -9.6637],  [ -9.6854],  [ -9.8038],  [ -9.7618],  [ -9.7288],  [ -9.5601],  [ -9.6628],  [ -9.6414],  [ -9.6814]], [[ -9.4176],  [ -9.1423],  [ -8.8762],  [ -8.7473],  [ -9.0178],  [ -9.2648],  [ -9.4551],  [ -9.5253],  [ -8.9135],  [ -8.9440],  [ -9.1617],  [ -9.2640],  [ -9.4258],  [ -9.7777],  [-10.0827],  [-10.1436],  [ -9.4189],  [ -9.8132],  [-10.0374],  [-10.1059],  [ -8.9412],  [ -9.5811],  [ -9.5185],  [ -9.2959],  [ -9.2589]], [[-78.1498],  [-78.2781],  [-78.4164],  [-78.4354],  [-78.4724],  [-78.4383],  [-78.3339],  [-78.2619],  [-78.2031],  [-78.5201],  [-78.3114],  [-78.3320],  [-78.2227],  [-78.0755],  [-77.8429],  [-77.8968],  [-78.1462],  [-78.0775],  [-77.8681],  [-77.9534],  [-78.3797],  [-78.2327],  [-78.2500],  [-78.2995],  [-78.3750]]])"
   ]
  },
  {
   "cell_type": "code",
   "execution_count": null,
   "metadata": {
    "scrolled": true
   },
   "outputs": [],
   "source": [
    "sample_pose = sample_pose.reshape(3,25).transpose(1,0)\n",
    "image_sample = single_pose_image(sample_pose)\n",
    "plt.imshow(image_sample)"
   ]
  },
  {
   "cell_type": "code",
   "execution_count": null,
   "metadata": {},
   "outputs": [],
   "source": [
    "save_path = './ckpts/trained_stgcn.pt'\n",
    "config = \"config/fp_gcn/ntu_fp/train.yaml\"\n",
    "num_future=6"
   ]
  },
  {
   "cell_type": "code",
   "execution_count": null,
   "metadata": {},
   "outputs": [],
   "source": [
    "with open(config, 'r') as f:\n",
    "    print(\"Loading config from:\", config)\n",
    "    args = yaml.load(f)\n",
    "\n",
    "test_feeder_args = args[\"test_feeder_args\"]\n",
    "test_dataset = NTU_FP_Dataset(**test_feeder_args, debug=True)   \n",
    "test_loader = DataLoader(  dataset=test_dataset,\n",
    "                            batch_size=args[\"batch_size\"],\n",
    "                            shuffle=True,\n",
    "                            num_workers=1,\n",
    "                            drop_last=True) \n",
    "\n",
    "devices = args[\"device\"]\n",
    "model_args = args[\"model_args\"]\n",
    "stgcn = STGCN(**model_args)"
   ]
  },
  {
   "cell_type": "code",
   "execution_count": null,
   "metadata": {},
   "outputs": [],
   "source": [
    "#stgcn.load_state_dict(torch.load(save_path))\n",
    "\n",
    "if torch.cuda.is_available():\n",
    "    stgcn = stgcn.cuda()"
   ]
  },
  {
   "cell_type": "code",
   "execution_count": null,
   "metadata": {},
   "outputs": [],
   "source": [
    "criterion = nn.MSELoss()\n",
    "\n",
    "for i, (data, label) in enumerate(test_loader):\n",
    "    # get data\n",
    "    if torch.cuda.is_available():\n",
    "        data = data.float().cuda()\n",
    "        label = label.long().cuda()\n",
    "    # forward\n",
    "    output = stgcn(data[:,:, :-num_future, :, :])\n",
    "    loss = criterion(output, data[:, :, num_future:, :, :])\n",
    "    # statistics\n",
    "    now_loss = loss.data.item()  / (data.shape[2] - num_future)\n",
    "    print(\"loss: %.5f \\r\" % (now_loss))\n",
    "    \n",
    "    Cols = 5\n",
    "\n",
    "    batch_len = data.shape[2]-num_future\n",
    "    for i in range(batch_len):\n",
    "        if torch.cuda.is_available():\n",
    "            #image = double_pose_image(data[:,:,i+num_future,:,:].cpu().detach().numpy().reshape(3,25).transpose(1,0),\n",
    "            #                          output[:,:,i,:,:].cpu().detach().numpy().reshape(3,25).transpose(1,0))\n",
    "            image = single_pose_image(data[:,:,i+num_future,:,:].cpu().detach().numpy().reshape(3,25).transpose(1,0)) \n",
    "        if i%Cols == 0:\n",
    "            fig, ax = plt.subplots(1,Cols)\n",
    "            \n",
    "        ax[i%Cols].imshow(image) \n",
    "        \n",
    "    break\n",
    "        #input()\n",
    "        #plt.close()"
   ]
  },
  {
   "cell_type": "code",
   "execution_count": null,
   "metadata": {},
   "outputs": [],
   "source": []
  },
  {
   "cell_type": "code",
   "execution_count": null,
   "metadata": {},
   "outputs": [],
   "source": []
  }
 ],
 "metadata": {
  "kernelspec": {
   "display_name": "Environment (conda_pytorch_p36)",
   "language": "python",
   "name": "conda_pytorch_p36"
  },
  "language_info": {
   "codemirror_mode": {
    "name": "ipython",
    "version": 3
   },
   "file_extension": ".py",
   "mimetype": "text/x-python",
   "name": "python",
   "nbconvert_exporter": "python",
   "pygments_lexer": "ipython3",
   "version": "3.6.5"
  }
 },
 "nbformat": 4,
 "nbformat_minor": 2
}
